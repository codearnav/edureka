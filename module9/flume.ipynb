{
 "cells": [
  {
   "cell_type": "markdown",
   "metadata": {},
   "source": [
    "# Flume"
   ]
  },
  {
   "cell_type": "markdown",
   "metadata": {},
   "source": [
    "### NetCat Configuration"
   ]
  },
  {
   "cell_type": "code",
   "execution_count": null,
   "metadata": {},
   "outputs": [],
   "source": [
    "# Naming the components on the current agent\n",
    "NetcatAgent.sources = Netcat   \n",
    "NetcatAgent.channels = MemChannel \n",
    "NetcatAgent.sinks = LoggerSink  \n",
    "\n",
    "# Describing/Configuring the source \n",
    "NetcatAgent.sources.Netcat.type = netcat \n",
    "NetcatAgent.sources.Netcat.bind = localhost\n",
    "NetcatAgent.sources.Netcat.port = 45353\n",
    "\n",
    "# Describing/Configuring the sink \n",
    "NetcatAgent.sinks.LoggerSink.type = logger  \n",
    "\n",
    "# Describing/Configuring the channel \n",
    "NetcatAgent.channels.MemChannel.type = memory \n",
    "NetcatAgent.channels.MemChannel.capacity = 1000 \n",
    "NetcatAgent.channels.MemChannel.transactionCapacity = 100 \n",
    " \n",
    "# Bind the source and sink to the channel \n",
    "NetcatAgent.sources.Netcat.channels = MemChannel\n",
    "NetcatAgent.sinks.LoggerSink.channel = MemChannel"
   ]
  },
  {
   "cell_type": "markdown",
   "metadata": {},
   "source": [
    "### Flume-Kafka_HDFS Confihuration"
   ]
  },
  {
   "cell_type": "code",
   "execution_count": null,
   "metadata": {},
   "outputs": [],
   "source": [
    "agent1.sources.kafka-source.type = org.apache.flume.source.kafka.KafkaSource\n",
    "agent1.sources.kafka-source.kafka.bootstrap.servers = ip-10-1-2-24.ap-south-1.compute.internal:9092, ip-10-1-2-40.ap-south-1.compute.internal:9092, ip-10-1-2-175.ap-south-1.compute.internal:9092, ip-10-1-1-204.ap-south-1.compute.internal:9092\n",
    "agent1.sources.kafka-source.topic = arnavmoutl12edu_flume_topic\n",
    "agent1.sources.kafka-source.groupId = flume\n",
    "agent1.sources.kafka-source.channels = memory-channel\n",
    "agent1.sources.kafka-source.interceptors = i1\n",
    "agent1.sources.kafka-source.interceptors.i1.type = timestamp\n",
    "agent1.sources.kafka-source.kafka.consumer.timeout.ms = 100\n",
    "\n",
    "agent1.channels.memory-channel.type = memory\n",
    "agent1.channels.memory-channel.capacity = 10000\n",
    "agent1.channels.memory-channel.transactionCapacity = 1000\n",
    "\n",
    "agent1.sinks.hdfs-sink.type = hdfs\n",
    "agent1.sinks.hdfs-sink.hdfs.path = hdfs://nameservice1/user/arnavmoutl12edu/flume_kafka/\n",
    "agent1.sinks.hdfs-sink.hdfs.rollInterval = 5\n",
    "agent1.sinks.hdfs-sink.hdfs.rollSize = 0\n",
    "agent1.sinks.hdfs-sink.hdfs.rollCount = 0\n",
    "agent1.sinks.hdfs-sink.hdfs.fileType = DataStream\n",
    "agent1.sinks.hdfs-sink.channel = memory-channel\n",
    "\n",
    "agent1.sources = kafka-source\n",
    "agent1.channels = memory-channel\n",
    "agent1.sinks = hdfs-sink"
   ]
  },
  {
   "cell_type": "markdown",
   "metadata": {},
   "source": [
    "### Checking available ports for telnet"
   ]
  },
  {
   "cell_type": "code",
   "execution_count": null,
   "metadata": {},
   "outputs": [],
   "source": [
    "netstat -tulpn"
   ]
  },
  {
   "cell_type": "markdown",
   "metadata": {},
   "source": [
    "## Execution"
   ]
  },
  {
   "cell_type": "code",
   "execution_count": null,
   "metadata": {},
   "outputs": [],
   "source": [
    "FLUME_CONF=\"module9\""
   ]
  },
  {
   "cell_type": "code",
   "execution_count": null,
   "metadata": {},
   "outputs": [],
   "source": [
    "flume-ng agent --conf $FLUME_CONF --conf-file $FLUME_CONF/netcat.conf --name NetcatAgent -Dflume.root.logger=INFO,console"
   ]
  },
  {
   "cell_type": "code",
   "execution_count": null,
   "metadata": {},
   "outputs": [],
   "source": [
    "telnet localhost 34313"
   ]
  },
  {
   "cell_type": "markdown",
   "metadata": {},
   "source": [
    "## Kafka and Flume Integration"
   ]
  },
  {
   "cell_type": "markdown",
   "metadata": {},
   "source": [
    "### Create Kafk Topic"
   ]
  },
  {
   "cell_type": "code",
   "execution_count": null,
   "metadata": {},
   "outputs": [],
   "source": [
    "kafka-topics --create --zookeeper ip-10-1-2-103.ap-south-1.compute.internal:2181 --replication-factor 1 --partitions 1 --topic arnavmoutl12edu_flume_topic\n",
    "   "
   ]
  },
  {
   "cell_type": "markdown",
   "metadata": {},
   "source": [
    "### Create Flume Agent"
   ]
  },
  {
   "cell_type": "code",
   "execution_count": null,
   "metadata": {},
   "outputs": [],
   "source": [
    "flume-ng agent --conf $FLUME_CONF --conf-file $FLUME_CONF/kafka_flume_hdfs.conf --name agent1 -Dflume.root.logger=INFO,console"
   ]
  },
  {
   "cell_type": "markdown",
   "metadata": {},
   "source": [
    "### Run Kafka Console Producer"
   ]
  },
  {
   "cell_type": "code",
   "execution_count": null,
   "metadata": {},
   "outputs": [],
   "source": [
    "kafka-console-producer --topic arnavmoutl12edu_flume_topic --broker-list ip-10-1-2-24.ap-south-1.compute.internal:9092, ip-10-1-2-40.ap-south-1.compute.internal:9092, ip-10-1-2-175.ap-south-1.compute.internal:9092, ip-10-1-1-204.ap-south-1.compute.internal:9092\n"
   ]
  }
 ],
 "metadata": {
  "kernelspec": {
   "display_name": "Python 3",
   "language": "python",
   "name": "python3"
  },
  "language_info": {
   "codemirror_mode": {
    "name": "ipython",
    "version": 3
   },
   "file_extension": ".py",
   "mimetype": "text/x-python",
   "name": "python",
   "nbconvert_exporter": "python",
   "pygments_lexer": "ipython3",
   "version": "3.7.6"
  }
 },
 "nbformat": 4,
 "nbformat_minor": 4
}

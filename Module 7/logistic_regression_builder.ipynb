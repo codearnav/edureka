{
 "cells": [
  {
   "cell_type": "code",
   "execution_count": 45,
   "metadata": {},
   "outputs": [],
   "source": [
    "from __future__ import print_function\n",
    "import sys\n",
    "from pyspark.sql import SparkSession\n",
    "from pyspark.mllib.feature import HashingTF\n",
    "from pyspark.mllib.regression import LabeledPoint\n",
    "from pyspark.mllib.classification import LogisticRegressionWithLBFGS\n",
    "from pyspark.mllib.classification import LogisticRegressionWithSGD"
   ]
  },
  {
   "cell_type": "code",
   "execution_count": 46,
   "metadata": {},
   "outputs": [],
   "source": [
    "#===============================================\n",
    "# This function returns a LabeledPoint\n",
    "#\n",
    "# Parameters:\n",
    "#   label: as 0 (for non-spam), 1 (for spam)\n",
    "#   email: a String of words representing an email\n",
    "#   tf: an instance of HashingTF\n",
    "#\n",
    "def createLabeledPoint(label, email, tf):\n",
    "    print(\"createLabeledPoint() label = \", label)\n",
    "    print(\"createLabeledPoint() email = \", email)\n",
    "    print(\"createLabeledPoint() tf = \", tf)\n",
    "    # featurize email\n",
    "    features = tf.transform(email)\n",
    "    # create a LabeledPoint\n",
    "    return LabeledPoint(label, features)\n",
    "#end-def\n",
    "#==============================================="
   ]
  },
  {
   "cell_type": "code",
   "execution_count": 47,
   "metadata": {},
   "outputs": [],
   "source": [
    "spark = SparkSession\\\n",
    "    .builder\\\n",
    "    .appName(\"logistic_regression_builder\")\\\n",
    "    .getOrCreate()"
   ]
  },
  {
   "cell_type": "code",
   "execution_count": 48,
   "metadata": {},
   "outputs": [],
   "source": [
    "# Step-1: define input and output paths\n",
    "# define training data paths \n",
    "training_emails_nospam_path = \"/user/arnavmoutl12edu/module7/training_emails_nospam.txt\"\n",
    "# \"/.../training_emails_nospam.txt\"\n",
    "training_emails_spam_path = \"/user/arnavmoutl12edu/module7/training_emails_spam.txt\"\n",
    "# \"/.../training_emails_spam.txt\"\n",
    "# define output path for the built model\n",
    "saved_model_path = \"/user/arnavmoutl12edu/module7/model\"\n",
    "# \"/.../model\""
   ]
  },
  {
   "cell_type": "code",
   "execution_count": 49,
   "metadata": {},
   "outputs": [
    {
     "name": "stdout",
     "output_type": "stream",
     "text": [
      "training_emails_nospam_path: /user/arnavmoutl12edu/module7/training_emails_nospam.txt\n",
      "training_emails_spam_path: /user/arnavmoutl12edu/module7/training_emails_spam.txt\n",
      "saved_model_path: /user/arnavmoutl12edu/module7/model\n"
     ]
    }
   ],
   "source": [
    "# check out the inputs\n",
    "print(\"training_emails_nospam_path: {}\".format(training_emails_nospam_path))\n",
    "print(\"training_emails_spam_path: {}\".format(training_emails_spam_path))\n",
    "print(\"saved_model_path: {}\".format(saved_model_path))"
   ]
  },
  {
   "cell_type": "code",
   "execution_count": 50,
   "metadata": {},
   "outputs": [
    {
     "name": "stdout",
     "output_type": "stream",
     "text": [
      "spam_emails.collect()= [\"Samsung Galaxy End of YearPromo You have 1 week remaining to retrieve your won prize for the Samsung Galaxy Xmas Promo 'C' draw category winning prize of Seven Hundred and Fifty Thousand Euros each and a Samsung Galaxy S6 EDGE. Winning Ticket Number:WIN-707-COS.  We advise you to keep this winning notification confidential and away from public notice to avoid double claim/mistransfer or impersonation until after remittance/payment to you.\", \"We've picked out 10 new matches for you. Meet them now and then check out all the singles in your area! you might win a prize too\", 'For claim fill in the attached claim application form completely and follow instructions carefully.', 'Dear sir, I am a Prince in a far kingdom you have not heard of.  I want to send you money via wire transfer so please ...', 'Get Viagra real cheap!  Send money right away to ...', 'Oh my gosh you can be really strong too with these drugs found in the rainforest. Get them cheap right now ...', 'YOUR COMPUTER HAS BEEN INFECTED!  YOU MUST RESET YOUR PASSWORD.  Reply to this email with your password and SSN ...', 'THIS IS NOT A SCAM!  Send money and get access to awesome stuff really cheap and never have to ...', 'Dear Good Friend, This message might come to you as a surprise. However, it all just my urgent needs for a foreign partner that made me to contact you for this transaction.  I have the opportunity of transferring the left over funds ($15 million dollars) of one of my bank clients who died along with his entire family on Monday 31st July 2004 in a plane crash. I am inviting you for a business deal where this money can be shared between us in the ratio of 60 / 40% if you agree to my business proposal. Further details of the transfer will be forwarded to you as soon as I receive your responses. Please indicate your willingness by sending the below is information for more clarification and easy communication.', \"Greetings, I am Idrissa Nassa, i know that you will be surprise to hear about this business since we don't know each other before, but it was due to the urgency of this business makes me to contact you immediately through email please accept my apology. I am the manager of (C.B.I) Coris Bank International Ouagadougou Burkina Faso. i need your urgent assistance in transferring this sum of (forty million five hundred thousand United States dollars) to a foreign account, please would you be interested to assist me in this transaction with your bank account to receive this fund.\", \"Did you miss some freebies recently? Don't worry! We put together a collection of the top new freebies available right now. Make sure you claimed all of them - some samples are expiring soon. Claim yours while they are still available!\", \"We are pleased to announce you we have found unclaimed money for your familly: Claim it Now. You have until 4 November, 12 AM tonight to claim it or it will be reallocated to someone else.  We don't have the exact number we own you but you can verify here. \", 'HELLO MY DEAR, I am writing this mail to you with tears and sorrow from my heart. With due respect trust and humanity, I appeal to you to exercise a little patience and read through my letter, I wish to contact you personally for a long term business relationship and investment assistance in your Country so I feel quite safe dealing with you in this important business having gone through your remarkable profile, honestly I am writing this email to you with pains, tears and sorrow from my heart, I will really like to have a good relationship with you and I have a special reason why I decided to contact you, I decided to contact you due to the urgency of my situation, My name is Miss Samira Kipkalya Kones, 23yrs old female and I held from Kenya in East Africa. My father was the former Kenyan road Minister. He and Assistant Minister of Home Affairs Lorna Laboso had been on board the Cessna 210, which was headed to Kericho and crashed in a remote area called Kajong, in western Kenya. The plane crashed on the Tuesday 10th, June, 2008. You can read more about the crash through the below site:', 'AWAITING YOUR URGENT AND POSITIVE RESPONSE, Please do keep this only to your self for now un till the bank will transfer the fund. I plead to you not to disclose it till I come over because I am afraid of my wicked stepmother who has threatened to kill me and have the money alone, I thank God Today that am out from my country (KENYA) but now In (Burkina Faso) where my father deposited these money with my name as the next of Kin. I have the documents for the claims.', \"Meet Plus-Sized Singles Near You, and provide your email, bank account, social security numbers, bank accounts ao that I can deposit 5M. One faithful morning, I opened my father's briefcase and found out the documents which he has deposited huge amount of money in one bank in Burkina Faso with my name as the next of kin. I traveled to Burkina Faso to withdraw the money for a better life so that I can take care of myself and start a new life, on my arrival, the Bank Director whom I met in person told me that my father's instruction/will to the bank is that the money would only be release to me when I am married or present a trustee who will help me and invest the money overseas. I am in search of an honest and reliable person who will help me and stand as my trustee so that I will present him to the Bank for transfer of the money to his bank account overseas. I have chosen to contact you after my prayers and I believe that you will not betray my trust. But rather take me as your own sister or daughter.\", 'Get Viagra and drugs very fast and real cheap!  Send money right away to my bank account in Nigeria', 'Get real money fast: With my position in the office i assure you with 100% risk free that this transaction is not a childish game play and i want you to indicate your full interest with assurance of trust that you will not betray me once the fund is transfer into your nominated bank account, while i look forward for your urgent reply.', 'Our new survey could help you slash your energy bills without any risk, believe it it works, just call us at 800-555-5555', \"Greetings, I am Mr. Nassa, i know that you will be surprise to hear about this business since we don't know each other before, but it was due to the urgency of this business makes me to contact you immediately through email please accept my apology. I am the manager of (C.B.I) Coris Bank International Ouagadougou Burkina Faso. i need your urgent assistance in transferring this sum of (forty million five hundred thousand United States dollars) to a foreign account, please would you be interested to assist me in this transaction with your bank account to receive this fund.\", 'Do you wanty to make an additional $5000 per month by flipping houses in the bay area? call me to show you how it is done! it works, believe it.']\n",
      "spam_emails.count()= 20\n"
     ]
    }
   ],
   "source": [
    "# spam_emails is an RDD[String]\n",
    "spam_emails = spark.sparkContext.textFile(training_emails_spam_path)\n",
    "print(\"spam_emails.collect()=\", spam_emails.collect())\n",
    "print(\"spam_emails.count()=\", spam_emails.count())"
   ]
  },
  {
   "cell_type": "code",
   "execution_count": 51,
   "metadata": {},
   "outputs": [
    {
     "name": "stdout",
     "output_type": "stream",
     "text": [
      "nospam_emails.collect()= ['Dear Spark Learner, Thanks so much for attending the Spark Summit 2014!  Check out videos of talks from the summit at ...', 'Hi Mom, Apologies for being late about emailing and forgetting to send you the package.  I hope you and bro have been ...', 'Wow, hey Fred, just heard about the Spark petabyte sort.  I think we need to take time to try it out immediately ...', 'Hi Spark user list, This is my first question to this list, so thanks in advance for your help!  I tried running ...', \"Thanks Tom for your email.  I need to refer you to Alice for this one.  I haven't yet figured out that part either ...\", 'Good job yesterday!  I was attending your talk, and really enjoyed it.  I want to try out GraphX ...', 'Summit demo got whoops from audience!  Had to let you know. --Joe', 'Hello Dr. Smith, thank you for great presentation, the whole class enjoyed your introduction to spark, hope you can give another presentation soon', 'Dear Jeff, We look forward to seeing you next week at the JavaOne conference. We are anticipating an exciting event, with more than 300 expert-led technical sessions, BOFs, Hands-on Labs, and special events throughout the week. This email will help you begin your week at the JavaOne conference. Please print it for your reference on site.', 'Hi Steve, Currently, I am a senior server architect for a startup company (called facebook.com) and managing a group of 14 server-side Java enginees. We are developing \"server-side components\" for mobile applications. I am in process of writing a book called: facebook the unwritten manual. Are you interested in such a book?', 'Hi Mary, Hope all is well.  Following up with our last discussion, would like to check with you potential time for in-person meeting next week.  Let us know which days you will be available at 4:30pm onwards, and we will coordinate on our side.', 'Hello Jeff, Thank you for your email. I do not have a discount code for the book. If you just need a copy for yourself, I can provide it to you free of charge (you just need to come to my office to get it). If you want multiple copies, then please let me know and then I will talk to my editor. Please let me know.', 'Dear Joe, We at the Big Data are growing our Engineering teams and looking for someone to join our DSE - Search organization.  I am hopeful that either you or someone you know could be interested in this role. Please let me know if you would be interested in speaking further about Big Data.', 'Hello Susan, Thank you very much for your email and introduction. It seems you are doing a lot of good things with Spark, Hadoop and Big data. I would recommend you take a look at Spark (spark.apache.org) as well. All of the source code and bonus chapters are posted at the GitHub:  If I can be any further help on Spark, please let me know.', 'Hello Alex, I read your advanced Spark book on machine learning and it is very intersting that you talk about linear regression and logistic algorithms: these algorithms will help to unlock the power of genome for the whole world, thanks.', 'Hello Mary, I am excited to invite you to the Spark Summit in San Francisco. The Spark summit will cover Hadoop, machine learning, mobile application development and cache optimizations, hope you can join us. -- Alan', 'I was able to load 20 billion records into HBase and Hadoop. The performance was very good, the query for a single row was less than a second.', 'For your appointment on Friday May 11, save time at the front desk by completing the following eCheck-in steps: Confirm information and Verify insurance', \"data center knowledge: Twitter Turns to Google Cloud to Better Cope with Scale Those clusters occupied close to 20 percent of all hardware behind Twitter as of January 2017, according to a blog post by the company's VP of infrastructure and operations, Mazdak Hashemi. In this week's post, Agrawal said Twitter's Hadoop file systems host more than 300PB of data \", \"Hi - I will meet him on Wednesday. He is unprepared for our meetings so he sits and works by himself and isn't ready to work together. Giving him an extra day will hopefully allow him to be prepared then we can use our time together more efficiently. I am hoping he is able to finish 3 of the 5 credits with me by May 18th.\"]\n",
      "nospam_emails.count()= 20\n"
     ]
    }
   ],
   "source": [
    "# nospam_emails is an RDD[String]\n",
    "nospam_emails = spark.sparkContext.textFile(training_emails_nospam_path)\n",
    "print(\"nospam_emails.collect()=\", nospam_emails.collect())\n",
    "print(\"nospam_emails.count()=\", nospam_emails.count())"
   ]
  },
  {
   "cell_type": "code",
   "execution_count": 52,
   "metadata": {},
   "outputs": [],
   "source": [
    "# Step-3: create an HTF\n",
    "# tf is an instance of HashingTF, which can hold up to 128 features\n",
    "FEATURES_HTF = HashingTF(numFeatures=128)"
   ]
  },
  {
   "cell_type": "code",
   "execution_count": 53,
   "metadata": {},
   "outputs": [
    {
     "name": "stdout",
     "output_type": "stream",
     "text": [
      "spam_labeled_points.collect()= [LabeledPoint(1.0, (128,[5,7,8,12,14,19,20,23,24,30,32,38,41,42,47,57,61,67,71,73,74,80,82,85,87,89,90,93,95,99,100,107,112,119,122,127],[4.0,6.0,51.0,6.0,12.0,1.0,9.0,5.0,18.0,6.0,1.0,5.0,15.0,3.0,2.0,2.0,1.0,4.0,29.0,35.0,1.0,8.0,1.0,2.0,95.0,31.0,3.0,6.0,1.0,33.0,3.0,21.0,13.0,5.0,2.0,2.0])), LabeledPoint(1.0, (128,[5,8,12,14,20,24,38,41,42,57,67,71,73,74,80,82,87,89,90,93,99,107,112,114,119,127],[1.0,10.0,2.0,2.0,4.0,6.0,6.0,3.0,1.0,1.0,2.0,9.0,6.0,1.0,2.0,1.0,32.0,14.0,1.0,3.0,7.0,9.0,3.0,1.0,1.0,1.0])), LabeledPoint(1.0, (128,[5,8,12,14,20,24,38,41,42,71,73,87,89,93,99,107,112],[1.0,12.0,3.0,2.0,7.0,13.0,2.0,4.0,1.0,7.0,8.0,19.0,5.0,1.0,5.0,7.0,2.0])), LabeledPoint(1.0, (128,[8,12,14,20,23,24,38,41,42,47,67,71,73,80,87,89,93,99,107,112,119],[14.0,1.0,3.0,1.0,2.0,4.0,2.0,3.0,4.0,1.0,3.0,8.0,11.0,1.0,32.0,10.0,2.0,8.0,4.0,5.0,2.0])), LabeledPoint(1.0, (128,[8,12,14,20,24,30,38,41,42,59,71,73,80,87,89,93,99,107,114],[5.0,1.0,1.0,1.0,3.0,1.0,2.0,1.0,3.0,1.0,2.0,6.0,2.0,11.0,5.0,1.0,2.0,3.0,1.0])), LabeledPoint(1.0, (128,[8,12,14,20,24,32,38,41,42,71,73,80,87,89,93,99,100,107,112],[10.0,1.0,2.0,2.0,5.0,1.0,8.0,2.0,4.0,8.0,4.0,4.0,27.0,9.0,2.0,6.0,1.0,9.0,5.0])), LabeledPoint(1.0, (128,[5,7,8,12,14,23,24,30,32,38,41,42,47,49,53,61,67,71,73,85,87,89,90,93,98,99,107,112,114,122],[3.0,3.0,5.0,2.0,2.0,9.0,4.0,7.0,5.0,2.0,2.0,4.0,2.0,1.0,5.0,2.0,1.0,3.0,3.0,4.0,22.0,2.0,1.0,2.0,6.0,1.0,3.0,6.0,1.0,2.0])), LabeledPoint(1.0, (128,[5,8,12,14,20,24,30,32,38,41,42,61,67,71,73,80,85,87,89,93,99,107,112,114,119,122],[1.0,2.0,1.0,3.0,3.0,4.0,4.0,1.0,2.0,3.0,3.0,2.0,2.0,4.0,7.0,1.0,2.0,23.0,11.0,1.0,5.0,4.0,5.0,1.0,2.0,1.0])), LabeledPoint(1.0, (128,[5,7,8,12,14,15,18,20,23,24,25,37,38,41,42,47,56,61,67,71,73,74,80,82,85,87,89,93,99,100,106,107,112,119],[3.0,2.0,84.0,8.0,17.0,1.0,1.0,13.0,3.0,39.0,1.0,1.0,18.0,17.0,6.0,1.0,1.0,1.0,5.0,52.0,43.0,4.0,10.0,2.0,2.0,168.0,61.0,9.0,44.0,8.0,1.0,40.0,43.0,5.0])), LabeledPoint(1.0, (128,[5,8,12,14,15,20,23,24,25,30,32,38,41,42,49,53,67,71,73,80,87,89,93,99,100,107,112,119,122,127],[1.0,61.0,5.0,14.0,2.0,14.0,4.0,23.0,2.0,1.0,1.0,16.0,12.0,5.0,3.0,1.0,11.0,38.0,40.0,10.0,133.0,47.0,7.0,34.0,8.0,44.0,39.0,2.0,2.0,1.0])), LabeledPoint(1.0, (128,[5,7,8,12,14,20,23,24,34,38,41,42,67,71,73,80,87,89,90,93,99,100,107,112,114,119,122,127],[2.0,1.0,26.0,4.0,2.0,4.0,2.0,21.0,1.0,6.0,7.0,2.0,1.0,16.0,14.0,3.0,49.0,28.0,1.0,4.0,7.0,4.0,12.0,12.0,2.0,2.0,1.0,1.0])), LabeledPoint(1.0, (128,[5,7,8,12,14,20,23,24,38,41,42,61,71,73,80,82,87,89,90,93,95,99,100,107,112,119,122,127],[2.0,2.0,20.0,1.0,5.0,6.0,1.0,19.0,6.0,8.0,3.0,1.0,21.0,14.0,1.0,1.0,66.0,28.0,2.0,5.0,1.0,13.0,4.0,14.0,6.0,5.0,1.0,1.0])), LabeledPoint(1.0, (128,[5,7,8,12,14,18,20,23,24,30,32,37,38,41,42,56,61,67,68,71,73,74,80,82,85,87,89,90,93,95,98,99,100,106,107,112,119,122],[7.0,5.0,116.0,13.0,32.0,1.0,29.0,17.0,59.0,1.0,1.0,1.0,43.0,26.0,5.0,1.0,4.0,13.0,4.0,68.0,83.0,4.0,12.0,2.0,2.0,243.0,91.0,1.0,16.0,1.0,1.0,60.0,8.0,1.0,72.0,54.0,4.0,2.0])), LabeledPoint(1.0, (128,[5,7,8,12,14,15,20,23,24,25,30,32,38,41,42,47,49,53,59,61,67,71,73,85,87,89,90,93,98,99,100,107,112,119],[2.0,2.0,28.0,4.0,13.0,2.0,9.0,8.0,26.0,2.0,3.0,3.0,19.0,15.0,3.0,3.0,1.0,2.0,1.0,4.0,16.0,31.0,24.0,4.0,114.0,40.0,1.0,7.0,3.0,21.0,3.0,32.0,20.0,3.0])), LabeledPoint(1.0, (128,[5,7,8,12,14,20,23,24,30,32,38,41,42,47,49,57,67,71,73,80,87,89,93,99,100,107,112,119,127],[5.0,3.0,90.0,11.0,22.0,20.0,8.0,50.0,2.0,1.0,39.0,30.0,6.0,1.0,5.0,1.0,23.0,63.0,72.0,4.0,240.0,96.0,16.0,62.0,12.0,77.0,47.0,8.0,2.0])), LabeledPoint(1.0, (128,[8,12,14,20,24,30,38,41,59,67,71,73,80,87,89,93,99,100,107,112,114,119],[11.0,1.0,4.0,3.0,5.0,1.0,2.0,2.0,1.0,1.0,3.0,12.0,4.0,23.0,7.0,1.0,7.0,1.0,5.0,3.0,1.0,1.0])), LabeledPoint(1.0, (128,[8,12,14,20,23,24,38,41,42,67,71,73,74,80,82,85,87,89,90,93,95,99,100,107,112],[43.0,3.0,6.0,8.0,1.0,21.0,11.0,5.0,1.0,3.0,23.0,21.0,2.0,2.0,1.0,1.0,86.0,22.0,1.0,6.0,1.0,21.0,2.0,30.0,15.0])), LabeledPoint(1.0, (128,[7,8,12,14,18,20,23,24,32,38,67,71,73,74,80,87,89,93,99,100,106,107,112,119],[2.0,12.0,1.0,1.0,1.0,2.0,2.0,13.0,1.0,3.0,9.0,5.0,4.0,2.0,1.0,29.0,8.0,3.0,3.0,2.0,1.0,6.0,8.0,2.0])), LabeledPoint(1.0, (128,[5,8,12,14,15,20,23,24,25,30,32,38,41,42,49,53,67,71,73,80,87,89,93,99,100,107,112,119,122,127],[2.0,60.0,5.0,13.0,2.0,14.0,4.0,23.0,2.0,1.0,1.0,16.0,12.0,6.0,3.0,1.0,10.0,38.0,39.0,10.0,133.0,47.0,7.0,34.0,8.0,44.0,37.0,2.0,2.0,1.0])), LabeledPoint(1.0, (128,[8,12,14,18,20,23,24,34,38,41,42,67,71,73,74,80,87,89,93,99,100,107,112,114,119],[13.0,3.0,3.0,1.0,1.0,2.0,10.0,1.0,5.0,3.0,1.0,3.0,12.0,9.0,3.0,1.0,33.0,10.0,4.0,7.0,3.0,9.0,5.0,1.0,1.0]))]\n",
      "spam_labeled_points.count()= 20\n"
     ]
    }
   ],
   "source": [
    "# Step-4: create LabeledPoint per training email\n",
    "# spam emails gets a \"1\" classification, \n",
    "# spam_labeled_points is an RDD[LabeledPoint]\n",
    "spam_labeled_points = spam_emails.map(lambda email : createLabeledPoint(1, email, FEATURES_HTF))\n",
    "print(\"spam_labeled_points.collect()=\", spam_labeled_points.collect())\n",
    "print(\"spam_labeled_points.count()=\", spam_labeled_points.count())"
   ]
  },
  {
   "cell_type": "code",
   "execution_count": 54,
   "metadata": {},
   "outputs": [
    {
     "name": "stdout",
     "output_type": "stream",
     "text": [
      "nospam_labeled_points.collect()= [LabeledPoint(0.0, (128,[7,8,12,14,20,23,24,30,38,41,42,67,68,71,73,74,80,82,85,87,89,99,107,112,114,119,122],[1.0,11.0,2.0,2.0,2.0,2.0,1.0,3.0,5.0,6.0,3.0,5.0,1.0,6.0,8.0,1.0,1.0,1.0,1.0,29.0,8.0,4.0,9.0,6.0,1.0,1.0,1.0])), LabeledPoint(0.0, (128,[5,8,12,14,20,23,24,38,41,42,61,67,71,73,80,87,89,99,100,107,112,119],[1.0,9.0,3.0,3.0,1.0,1.0,5.0,3.0,3.0,4.0,1.0,2.0,11.0,8.0,6.0,28.0,12.0,7.0,4.0,6.0,2.0,1.0])), LabeledPoint(0.0, (128,[5,8,12,14,23,24,30,38,41,42,67,71,73,87,89,90,93,99,100,106,107,112],[1.0,10.0,2.0,4.0,2.0,5.0,1.0,4.0,3.0,4.0,4.0,6.0,6.0,26.0,13.0,1.0,2.0,2.0,2.0,1.0,15.0,2.0])), LabeledPoint(0.0, (128,[8,12,14,20,23,24,30,38,41,42,67,71,73,80,85,87,89,99,107,112,114,119],[18.0,2.0,2.0,1.0,2.0,5.0,1.0,4.0,2.0,3.0,3.0,5.0,4.0,1.0,1.0,29.0,5.0,8.0,8.0,10.0,1.0,1.0])), LabeledPoint(0.0, (128,[8,12,14,20,24,38,41,42,61,67,71,73,80,85,87,89,99,107,112,119,127],[13.0,1.0,2.0,1.0,5.0,5.0,2.0,5.0,1.0,3.0,9.0,5.0,1.0,2.0,33.0,12.0,4.0,10.0,2.0,1.0,1.0])), LabeledPoint(0.0, (128,[8,12,14,19,23,24,38,42,67,71,73,80,87,89,93,99,100,106,107,112,114],[7.0,1.0,5.0,1.0,1.0,9.0,1.0,4.0,3.0,7.0,8.0,1.0,24.0,6.0,2.0,5.0,1.0,2.0,9.0,2.0,1.0])), LabeledPoint(0.0, (128,[7,8,12,14,20,24,30,38,41,42,56,67,71,73,80,87,89,93,99,107,112,114],[2.0,3.0,1.0,3.0,1.0,2.0,1.0,1.0,5.0,1.0,1.0,1.0,9.0,2.0,1.0,16.0,5.0,2.0,2.0,4.0,1.0,1.0])), LabeledPoint(0.0, (128,[8,12,14,20,23,24,30,38,41,42,67,71,73,80,87,89,93,99,106,107,112,119],[15.0,4.0,2.0,3.0,4.0,8.0,1.0,6.0,2.0,1.0,2.0,16.0,8.0,2.0,27.0,13.0,1.0,11.0,1.0,12.0,6.0,1.0])), LabeledPoint(0.0, (128,[5,7,8,12,14,20,23,24,32,37,38,41,42,47,49,56,67,68,71,73,74,80,85,87,89,90,93,99,100,107,112,119],[4.0,2.0,32.0,5.0,4.0,10.0,6.0,13.0,3.0,1.0,10.0,3.0,4.0,1.0,1.0,3.0,4.0,1.0,17.0,20.0,2.0,5.0,1.0,68.0,47.0,2.0,6.0,24.0,2.0,21.0,13.0,4.0])), LabeledPoint(0.0, (128,[7,8,12,14,15,20,23,24,25,30,34,38,41,42,56,61,67,71,73,80,82,87,89,90,93,95,99,100,107,112,119,122],[2.0,37.0,8.0,9.0,1.0,12.0,2.0,12.0,1.0,1.0,1.0,3.0,9.0,4.0,1.0,1.0,6.0,23.0,24.0,6.0,1.0,64.0,33.0,1.0,2.0,1.0,19.0,5.0,14.0,15.0,6.0,1.0])), LabeledPoint(0.0, (128,[5,7,8,12,14,20,23,24,37,38,41,42,67,68,71,73,74,80,87,89,93,95,99,100,107,112,119],[3.0,1.0,25.0,5.0,7.0,5.0,3.0,20.0,1.0,5.0,5.0,3.0,4.0,1.0,18.0,12.0,1.0,2.0,54.0,18.0,12.0,1.0,12.0,2.0,12.0,11.0,1.0])), LabeledPoint(0.0, (128,[8,12,14,15,20,23,24,25,38,41,42,47,56,67,71,73,80,85,87,89,93,99,100,106,107,112,119],[19.0,5.0,8.0,1.0,8.0,3.0,23.0,1.0,6.0,8.0,5.0,1.0,1.0,10.0,31.0,12.0,2.0,1.0,89.0,31.0,4.0,12.0,1.0,2.0,21.0,7.0,2.0])), LabeledPoint(0.0, (128,[7,8,12,14,20,23,24,30,38,41,42,47,49,56,57,67,71,73,80,87,89,90,93,99,100,106,107,112],[1.0,33.0,2.0,5.0,2.0,7.0,10.0,2.0,7.0,5.0,3.0,1.0,2.0,1.0,1.0,5.0,26.0,17.0,9.0,68.0,31.0,1.0,4.0,18.0,3.0,1.0,18.0,8.0])), LabeledPoint(0.0, (128,[8,12,14,15,20,23,24,25,30,38,41,42,49,61,67,71,73,80,85,87,89,93,95,99,100,107,112,119],[24.0,10.0,12.0,1.0,8.0,3.0,19.0,1.0,4.0,10.0,9.0,6.0,1.0,1.0,12.0,27.0,27.0,5.0,1.0,83.0,25.0,4.0,1.0,15.0,3.0,17.0,11.0,1.0])), LabeledPoint(0.0, (128,[5,8,12,14,20,23,24,30,38,41,42,61,67,71,73,80,87,89,93,95,99,100,107,112,119],[1.0,27.0,3.0,6.0,4.0,2.0,18.0,1.0,10.0,5.0,1.0,1.0,6.0,19.0,15.0,7.0,45.0,20.0,4.0,1.0,14.0,2.0,15.0,9.0,2.0])), LabeledPoint(0.0, (128,[5,7,8,12,14,20,23,24,30,38,41,42,57,61,67,71,73,80,85,87,89,93,99,100,106,107,112,119],[3.0,2.0,23.0,8.0,4.0,9.0,4.0,12.0,4.0,5.0,11.0,2.0,1.0,1.0,3.0,16.0,16.0,1.0,1.0,40.0,15.0,1.0,14.0,1.0,1.0,11.0,4.0,3.0])), LabeledPoint(0.0, (128,[7,8,12,14,20,23,24,38,41,42,49,67,71,73,74,80,85,87,89,93,99,100,107,112,119],[1.0,12.0,2.0,6.0,3.0,1.0,8.0,3.0,3.0,2.0,1.0,1.0,13.0,12.0,1.0,2.0,1.0,30.0,12.0,4.0,8.0,2.0,4.0,9.0,1.0])), LabeledPoint(0.0, (128,[5,7,8,12,14,20,23,24,38,41,59,67,71,73,80,82,87,89,93,95,99,100,107,112,119,122],[3.0,1.0,19.0,4.0,3.0,3.0,1.0,8.0,3.0,5.0,1.0,2.0,11.0,8.0,2.0,2.0,30.0,12.0,1.0,1.0,13.0,1.0,10.0,5.0,1.0,2.0])), LabeledPoint(0.0, (128,[5,7,8,12,14,20,23,24,30,37,38,41,42,47,49,56,57,59,61,67,71,73,74,80,82,85,87,89,93,95,99,100,107,112,122,127],[1.0,2.0,31.0,8.0,12.0,11.0,3.0,15.0,1.0,1.0,9.0,6.0,1.0,2.0,2.0,1.0,1.0,1.0,1.0,4.0,27.0,26.0,4.0,5.0,1.0,5.0,74.0,29.0,8.0,1.0,13.0,3.0,28.0,20.0,2.0,3.0])), LabeledPoint(0.0, (128,[5,7,8,12,14,18,20,24,37,38,41,42,67,71,73,80,82,87,89,90,93,99,100,107,112,119,127],[2.0,1.0,37.0,6.0,9.0,1.0,3.0,19.0,1.0,15.0,12.0,4.0,5.0,17.0,14.0,5.0,1.0,78.0,33.0,1.0,7.0,14.0,4.0,19.0,13.0,1.0,1.0]))]\n",
      "nospam_labeled_points.count()= 20\n"
     ]
    }
   ],
   "source": [
    "#\n",
    "# nospam emails gets a \"0\" classification, \n",
    "# nospam_labeled_points is an RDD[LabeledPoint]\n",
    "nospam_labeled_points = nospam_emails.map(lambda email : createLabeledPoint(0, email, FEATURES_HTF))\n",
    "print(\"nospam_labeled_points.collect()=\", nospam_labeled_points.collect())\n",
    "print(\"nospam_labeled_points.count()=\", nospam_labeled_points.count())\n",
    "#"
   ]
  },
  {
   "cell_type": "code",
   "execution_count": 55,
   "metadata": {},
   "outputs": [
    {
     "name": "stdout",
     "output_type": "stream",
     "text": [
      "training_data.count()= 40\n",
      "training_data.collect()= [LabeledPoint(1.0, (128,[5,7,8,12,14,19,20,23,24,30,32,38,41,42,47,57,61,67,71,73,74,80,82,85,87,89,90,93,95,99,100,107,112,119,122,127],[4.0,6.0,51.0,6.0,12.0,1.0,9.0,5.0,18.0,6.0,1.0,5.0,15.0,3.0,2.0,2.0,1.0,4.0,29.0,35.0,1.0,8.0,1.0,2.0,95.0,31.0,3.0,6.0,1.0,33.0,3.0,21.0,13.0,5.0,2.0,2.0])), LabeledPoint(1.0, (128,[5,8,12,14,20,24,38,41,42,57,67,71,73,74,80,82,87,89,90,93,99,107,112,114,119,127],[1.0,10.0,2.0,2.0,4.0,6.0,6.0,3.0,1.0,1.0,2.0,9.0,6.0,1.0,2.0,1.0,32.0,14.0,1.0,3.0,7.0,9.0,3.0,1.0,1.0,1.0])), LabeledPoint(1.0, (128,[5,8,12,14,20,24,38,41,42,71,73,87,89,93,99,107,112],[1.0,12.0,3.0,2.0,7.0,13.0,2.0,4.0,1.0,7.0,8.0,19.0,5.0,1.0,5.0,7.0,2.0])), LabeledPoint(1.0, (128,[8,12,14,20,23,24,38,41,42,47,67,71,73,80,87,89,93,99,107,112,119],[14.0,1.0,3.0,1.0,2.0,4.0,2.0,3.0,4.0,1.0,3.0,8.0,11.0,1.0,32.0,10.0,2.0,8.0,4.0,5.0,2.0])), LabeledPoint(1.0, (128,[8,12,14,20,24,30,38,41,42,59,71,73,80,87,89,93,99,107,114],[5.0,1.0,1.0,1.0,3.0,1.0,2.0,1.0,3.0,1.0,2.0,6.0,2.0,11.0,5.0,1.0,2.0,3.0,1.0])), LabeledPoint(1.0, (128,[8,12,14,20,24,32,38,41,42,71,73,80,87,89,93,99,100,107,112],[10.0,1.0,2.0,2.0,5.0,1.0,8.0,2.0,4.0,8.0,4.0,4.0,27.0,9.0,2.0,6.0,1.0,9.0,5.0])), LabeledPoint(1.0, (128,[5,7,8,12,14,23,24,30,32,38,41,42,47,49,53,61,67,71,73,85,87,89,90,93,98,99,107,112,114,122],[3.0,3.0,5.0,2.0,2.0,9.0,4.0,7.0,5.0,2.0,2.0,4.0,2.0,1.0,5.0,2.0,1.0,3.0,3.0,4.0,22.0,2.0,1.0,2.0,6.0,1.0,3.0,6.0,1.0,2.0])), LabeledPoint(1.0, (128,[5,8,12,14,20,24,30,32,38,41,42,61,67,71,73,80,85,87,89,93,99,107,112,114,119,122],[1.0,2.0,1.0,3.0,3.0,4.0,4.0,1.0,2.0,3.0,3.0,2.0,2.0,4.0,7.0,1.0,2.0,23.0,11.0,1.0,5.0,4.0,5.0,1.0,2.0,1.0])), LabeledPoint(1.0, (128,[5,7,8,12,14,15,18,20,23,24,25,37,38,41,42,47,56,61,67,71,73,74,80,82,85,87,89,93,99,100,106,107,112,119],[3.0,2.0,84.0,8.0,17.0,1.0,1.0,13.0,3.0,39.0,1.0,1.0,18.0,17.0,6.0,1.0,1.0,1.0,5.0,52.0,43.0,4.0,10.0,2.0,2.0,168.0,61.0,9.0,44.0,8.0,1.0,40.0,43.0,5.0])), LabeledPoint(1.0, (128,[5,8,12,14,15,20,23,24,25,30,32,38,41,42,49,53,67,71,73,80,87,89,93,99,100,107,112,119,122,127],[1.0,61.0,5.0,14.0,2.0,14.0,4.0,23.0,2.0,1.0,1.0,16.0,12.0,5.0,3.0,1.0,11.0,38.0,40.0,10.0,133.0,47.0,7.0,34.0,8.0,44.0,39.0,2.0,2.0,1.0])), LabeledPoint(1.0, (128,[5,7,8,12,14,20,23,24,34,38,41,42,67,71,73,80,87,89,90,93,99,100,107,112,114,119,122,127],[2.0,1.0,26.0,4.0,2.0,4.0,2.0,21.0,1.0,6.0,7.0,2.0,1.0,16.0,14.0,3.0,49.0,28.0,1.0,4.0,7.0,4.0,12.0,12.0,2.0,2.0,1.0,1.0])), LabeledPoint(1.0, (128,[5,7,8,12,14,20,23,24,38,41,42,61,71,73,80,82,87,89,90,93,95,99,100,107,112,119,122,127],[2.0,2.0,20.0,1.0,5.0,6.0,1.0,19.0,6.0,8.0,3.0,1.0,21.0,14.0,1.0,1.0,66.0,28.0,2.0,5.0,1.0,13.0,4.0,14.0,6.0,5.0,1.0,1.0])), LabeledPoint(1.0, (128,[5,7,8,12,14,18,20,23,24,30,32,37,38,41,42,56,61,67,68,71,73,74,80,82,85,87,89,90,93,95,98,99,100,106,107,112,119,122],[7.0,5.0,116.0,13.0,32.0,1.0,29.0,17.0,59.0,1.0,1.0,1.0,43.0,26.0,5.0,1.0,4.0,13.0,4.0,68.0,83.0,4.0,12.0,2.0,2.0,243.0,91.0,1.0,16.0,1.0,1.0,60.0,8.0,1.0,72.0,54.0,4.0,2.0])), LabeledPoint(1.0, (128,[5,7,8,12,14,15,20,23,24,25,30,32,38,41,42,47,49,53,59,61,67,71,73,85,87,89,90,93,98,99,100,107,112,119],[2.0,2.0,28.0,4.0,13.0,2.0,9.0,8.0,26.0,2.0,3.0,3.0,19.0,15.0,3.0,3.0,1.0,2.0,1.0,4.0,16.0,31.0,24.0,4.0,114.0,40.0,1.0,7.0,3.0,21.0,3.0,32.0,20.0,3.0])), LabeledPoint(1.0, (128,[5,7,8,12,14,20,23,24,30,32,38,41,42,47,49,57,67,71,73,80,87,89,93,99,100,107,112,119,127],[5.0,3.0,90.0,11.0,22.0,20.0,8.0,50.0,2.0,1.0,39.0,30.0,6.0,1.0,5.0,1.0,23.0,63.0,72.0,4.0,240.0,96.0,16.0,62.0,12.0,77.0,47.0,8.0,2.0])), LabeledPoint(1.0, (128,[8,12,14,20,24,30,38,41,59,67,71,73,80,87,89,93,99,100,107,112,114,119],[11.0,1.0,4.0,3.0,5.0,1.0,2.0,2.0,1.0,1.0,3.0,12.0,4.0,23.0,7.0,1.0,7.0,1.0,5.0,3.0,1.0,1.0])), LabeledPoint(1.0, (128,[8,12,14,20,23,24,38,41,42,67,71,73,74,80,82,85,87,89,90,93,95,99,100,107,112],[43.0,3.0,6.0,8.0,1.0,21.0,11.0,5.0,1.0,3.0,23.0,21.0,2.0,2.0,1.0,1.0,86.0,22.0,1.0,6.0,1.0,21.0,2.0,30.0,15.0])), LabeledPoint(1.0, (128,[7,8,12,14,18,20,23,24,32,38,67,71,73,74,80,87,89,93,99,100,106,107,112,119],[2.0,12.0,1.0,1.0,1.0,2.0,2.0,13.0,1.0,3.0,9.0,5.0,4.0,2.0,1.0,29.0,8.0,3.0,3.0,2.0,1.0,6.0,8.0,2.0])), LabeledPoint(1.0, (128,[5,8,12,14,15,20,23,24,25,30,32,38,41,42,49,53,67,71,73,80,87,89,93,99,100,107,112,119,122,127],[2.0,60.0,5.0,13.0,2.0,14.0,4.0,23.0,2.0,1.0,1.0,16.0,12.0,6.0,3.0,1.0,10.0,38.0,39.0,10.0,133.0,47.0,7.0,34.0,8.0,44.0,37.0,2.0,2.0,1.0])), LabeledPoint(1.0, (128,[8,12,14,18,20,23,24,34,38,41,42,67,71,73,74,80,87,89,93,99,100,107,112,114,119],[13.0,3.0,3.0,1.0,1.0,2.0,10.0,1.0,5.0,3.0,1.0,3.0,12.0,9.0,3.0,1.0,33.0,10.0,4.0,7.0,3.0,9.0,5.0,1.0,1.0])), LabeledPoint(0.0, (128,[7,8,12,14,20,23,24,30,38,41,42,67,68,71,73,74,80,82,85,87,89,99,107,112,114,119,122],[1.0,11.0,2.0,2.0,2.0,2.0,1.0,3.0,5.0,6.0,3.0,5.0,1.0,6.0,8.0,1.0,1.0,1.0,1.0,29.0,8.0,4.0,9.0,6.0,1.0,1.0,1.0])), LabeledPoint(0.0, (128,[5,8,12,14,20,23,24,38,41,42,61,67,71,73,80,87,89,99,100,107,112,119],[1.0,9.0,3.0,3.0,1.0,1.0,5.0,3.0,3.0,4.0,1.0,2.0,11.0,8.0,6.0,28.0,12.0,7.0,4.0,6.0,2.0,1.0])), LabeledPoint(0.0, (128,[5,8,12,14,23,24,30,38,41,42,67,71,73,87,89,90,93,99,100,106,107,112],[1.0,10.0,2.0,4.0,2.0,5.0,1.0,4.0,3.0,4.0,4.0,6.0,6.0,26.0,13.0,1.0,2.0,2.0,2.0,1.0,15.0,2.0])), LabeledPoint(0.0, (128,[8,12,14,20,23,24,30,38,41,42,67,71,73,80,85,87,89,99,107,112,114,119],[18.0,2.0,2.0,1.0,2.0,5.0,1.0,4.0,2.0,3.0,3.0,5.0,4.0,1.0,1.0,29.0,5.0,8.0,8.0,10.0,1.0,1.0])), LabeledPoint(0.0, (128,[8,12,14,20,24,38,41,42,61,67,71,73,80,85,87,89,99,107,112,119,127],[13.0,1.0,2.0,1.0,5.0,5.0,2.0,5.0,1.0,3.0,9.0,5.0,1.0,2.0,33.0,12.0,4.0,10.0,2.0,1.0,1.0])), LabeledPoint(0.0, (128,[8,12,14,19,23,24,38,42,67,71,73,80,87,89,93,99,100,106,107,112,114],[7.0,1.0,5.0,1.0,1.0,9.0,1.0,4.0,3.0,7.0,8.0,1.0,24.0,6.0,2.0,5.0,1.0,2.0,9.0,2.0,1.0])), LabeledPoint(0.0, (128,[7,8,12,14,20,24,30,38,41,42,56,67,71,73,80,87,89,93,99,107,112,114],[2.0,3.0,1.0,3.0,1.0,2.0,1.0,1.0,5.0,1.0,1.0,1.0,9.0,2.0,1.0,16.0,5.0,2.0,2.0,4.0,1.0,1.0])), LabeledPoint(0.0, (128,[8,12,14,20,23,24,30,38,41,42,67,71,73,80,87,89,93,99,106,107,112,119],[15.0,4.0,2.0,3.0,4.0,8.0,1.0,6.0,2.0,1.0,2.0,16.0,8.0,2.0,27.0,13.0,1.0,11.0,1.0,12.0,6.0,1.0])), LabeledPoint(0.0, (128,[5,7,8,12,14,20,23,24,32,37,38,41,42,47,49,56,67,68,71,73,74,80,85,87,89,90,93,99,100,107,112,119],[4.0,2.0,32.0,5.0,4.0,10.0,6.0,13.0,3.0,1.0,10.0,3.0,4.0,1.0,1.0,3.0,4.0,1.0,17.0,20.0,2.0,5.0,1.0,68.0,47.0,2.0,6.0,24.0,2.0,21.0,13.0,4.0])), LabeledPoint(0.0, (128,[7,8,12,14,15,20,23,24,25,30,34,38,41,42,56,61,67,71,73,80,82,87,89,90,93,95,99,100,107,112,119,122],[2.0,37.0,8.0,9.0,1.0,12.0,2.0,12.0,1.0,1.0,1.0,3.0,9.0,4.0,1.0,1.0,6.0,23.0,24.0,6.0,1.0,64.0,33.0,1.0,2.0,1.0,19.0,5.0,14.0,15.0,6.0,1.0])), LabeledPoint(0.0, (128,[5,7,8,12,14,20,23,24,37,38,41,42,67,68,71,73,74,80,87,89,93,95,99,100,107,112,119],[3.0,1.0,25.0,5.0,7.0,5.0,3.0,20.0,1.0,5.0,5.0,3.0,4.0,1.0,18.0,12.0,1.0,2.0,54.0,18.0,12.0,1.0,12.0,2.0,12.0,11.0,1.0])), LabeledPoint(0.0, (128,[8,12,14,15,20,23,24,25,38,41,42,47,56,67,71,73,80,85,87,89,93,99,100,106,107,112,119],[19.0,5.0,8.0,1.0,8.0,3.0,23.0,1.0,6.0,8.0,5.0,1.0,1.0,10.0,31.0,12.0,2.0,1.0,89.0,31.0,4.0,12.0,1.0,2.0,21.0,7.0,2.0])), LabeledPoint(0.0, (128,[7,8,12,14,20,23,24,30,38,41,42,47,49,56,57,67,71,73,80,87,89,90,93,99,100,106,107,112],[1.0,33.0,2.0,5.0,2.0,7.0,10.0,2.0,7.0,5.0,3.0,1.0,2.0,1.0,1.0,5.0,26.0,17.0,9.0,68.0,31.0,1.0,4.0,18.0,3.0,1.0,18.0,8.0])), LabeledPoint(0.0, (128,[8,12,14,15,20,23,24,25,30,38,41,42,49,61,67,71,73,80,85,87,89,93,95,99,100,107,112,119],[24.0,10.0,12.0,1.0,8.0,3.0,19.0,1.0,4.0,10.0,9.0,6.0,1.0,1.0,12.0,27.0,27.0,5.0,1.0,83.0,25.0,4.0,1.0,15.0,3.0,17.0,11.0,1.0])), LabeledPoint(0.0, (128,[5,8,12,14,20,23,24,30,38,41,42,61,67,71,73,80,87,89,93,95,99,100,107,112,119],[1.0,27.0,3.0,6.0,4.0,2.0,18.0,1.0,10.0,5.0,1.0,1.0,6.0,19.0,15.0,7.0,45.0,20.0,4.0,1.0,14.0,2.0,15.0,9.0,2.0])), LabeledPoint(0.0, (128,[5,7,8,12,14,20,23,24,30,38,41,42,57,61,67,71,73,80,85,87,89,93,99,100,106,107,112,119],[3.0,2.0,23.0,8.0,4.0,9.0,4.0,12.0,4.0,5.0,11.0,2.0,1.0,1.0,3.0,16.0,16.0,1.0,1.0,40.0,15.0,1.0,14.0,1.0,1.0,11.0,4.0,3.0])), LabeledPoint(0.0, (128,[7,8,12,14,20,23,24,38,41,42,49,67,71,73,74,80,85,87,89,93,99,100,107,112,119],[1.0,12.0,2.0,6.0,3.0,1.0,8.0,3.0,3.0,2.0,1.0,1.0,13.0,12.0,1.0,2.0,1.0,30.0,12.0,4.0,8.0,2.0,4.0,9.0,1.0])), LabeledPoint(0.0, (128,[5,7,8,12,14,20,23,24,38,41,59,67,71,73,80,82,87,89,93,95,99,100,107,112,119,122],[3.0,1.0,19.0,4.0,3.0,3.0,1.0,8.0,3.0,5.0,1.0,2.0,11.0,8.0,2.0,2.0,30.0,12.0,1.0,1.0,13.0,1.0,10.0,5.0,1.0,2.0])), LabeledPoint(0.0, (128,[5,7,8,12,14,20,23,24,30,37,38,41,42,47,49,56,57,59,61,67,71,73,74,80,82,85,87,89,93,95,99,100,107,112,122,127],[1.0,2.0,31.0,8.0,12.0,11.0,3.0,15.0,1.0,1.0,9.0,6.0,1.0,2.0,2.0,1.0,1.0,1.0,1.0,4.0,27.0,26.0,4.0,5.0,1.0,5.0,74.0,29.0,8.0,1.0,13.0,3.0,28.0,20.0,2.0,3.0])), LabeledPoint(0.0, (128,[5,7,8,12,14,18,20,24,37,38,41,42,67,71,73,80,82,87,89,90,93,99,100,107,112,119,127],[2.0,1.0,37.0,6.0,9.0,1.0,3.0,19.0,1.0,15.0,12.0,4.0,5.0,17.0,14.0,5.0,1.0,78.0,33.0,1.0,7.0,14.0,4.0,19.0,13.0,1.0,1.0]))]\n"
     ]
    },
    {
     "data": {
      "text/plain": [
       "UnionRDD[445] at union at NativeMethodAccessorImpl.java:0"
      ]
     },
     "execution_count": 55,
     "metadata": {},
     "output_type": "execute_result"
    }
   ],
   "source": [
    "# Step-5: Create a final training dataset\n",
    "# which includes spam and nonspam emails\n",
    "# Since all training data is classified, \n",
    "# now we create a single RDD as training_data,\n",
    "# which is an RDD[LabeledPoint]  \n",
    "training_data = spam_labeled_points.union(nospam_labeled_points)\n",
    "print(\"training_data.count()=\", training_data.count())\n",
    "print(\"training_data.collect()=\", training_data.collect())\n",
    "training_data.cache()"
   ]
  },
  {
   "cell_type": "code",
   "execution_count": 59,
   "metadata": {},
   "outputs": [],
   "source": [
    "#Step-7:  Save The Built LR Model\n",
    "# To save the built model, we use `LogisticRegressionModel.save()` \n",
    "# method as:\n",
    "LR_model.save(spark.sparkContext, saved_model_path)\n",
    "\n",
    "#====================================\n",
    "# Calculate the accuracy of the model. \n",
    "#====================================\n",
    "# create test data for checking accuracy\n",
    "training_70_percent, test_30_percent = training_data.randomSplit((0.7, 0.3))"
   ]
  },
  {
   "cell_type": "code",
   "execution_count": null,
   "metadata": {},
   "outputs": [],
   "source": [
    "# Step-6: Use LogisticRegressionWithSGD to create an LR model.\n",
    "# Train a classification model for Binary Logistic Regression \n",
    "# using Stochastic Gradient Descent (SGD). By default L2 \n",
    "# regularization is used, which can be changed via \n",
    "# LogisticRegressionWithSGD.optimizer.\n",
    "# Labels used in Logistic Regression should be \n",
    "# `{0, 1, ..., K - 1}` for K classes multi-label \n",
    "# classification problem. So if we have `K = 2`\n",
    "# classes, then the labels will be `{0, 1}`.\n",
    "#\n",
    "# The following code snippet shows how to create an LR model:\n",
    "# You should note that the LR_model is an instance of \n",
    "# pyspark.mllib.classification.LogisticRegressionModel \n",
    "#   \n",
    "# build an LR model (`LogisticRegressionModel`) using  \n",
    "# `LogisticRegressionWithSGD`\n",
    "LR_model = LogisticRegressionWithSGD.train(training_70_percent)"
   ]
  },
  {
   "cell_type": "code",
   "execution_count": 60,
   "metadata": {},
   "outputs": [
    {
     "name": "stdout",
     "output_type": "stream",
     "text": [
      "training_70_percent= PythonRDD[664] at RDD at PythonRDD.scala:53\n",
      "training_70_percent.count()= 28\n",
      "training_70_percent.collect()= [LabeledPoint(1.0, (128,[5,7,8,12,14,19,20,23,24,30,32,38,41,42,47,57,61,67,71,73,74,80,82,85,87,89,90,93,95,99,100,107,112,119,122,127],[4.0,6.0,51.0,6.0,12.0,1.0,9.0,5.0,18.0,6.0,1.0,5.0,15.0,3.0,2.0,2.0,1.0,4.0,29.0,35.0,1.0,8.0,1.0,2.0,95.0,31.0,3.0,6.0,1.0,33.0,3.0,21.0,13.0,5.0,2.0,2.0])), LabeledPoint(1.0, (128,[5,8,12,14,20,24,38,41,42,71,73,87,89,93,99,107,112],[1.0,12.0,3.0,2.0,7.0,13.0,2.0,4.0,1.0,7.0,8.0,19.0,5.0,1.0,5.0,7.0,2.0])), LabeledPoint(1.0, (128,[8,12,14,20,23,24,38,41,42,47,67,71,73,80,87,89,93,99,107,112,119],[14.0,1.0,3.0,1.0,2.0,4.0,2.0,3.0,4.0,1.0,3.0,8.0,11.0,1.0,32.0,10.0,2.0,8.0,4.0,5.0,2.0])), LabeledPoint(1.0, (128,[5,7,8,12,14,23,24,30,32,38,41,42,47,49,53,61,67,71,73,85,87,89,90,93,98,99,107,112,114,122],[3.0,3.0,5.0,2.0,2.0,9.0,4.0,7.0,5.0,2.0,2.0,4.0,2.0,1.0,5.0,2.0,1.0,3.0,3.0,4.0,22.0,2.0,1.0,2.0,6.0,1.0,3.0,6.0,1.0,2.0])), LabeledPoint(1.0, (128,[5,8,12,14,20,24,30,32,38,41,42,61,67,71,73,80,85,87,89,93,99,107,112,114,119,122],[1.0,2.0,1.0,3.0,3.0,4.0,4.0,1.0,2.0,3.0,3.0,2.0,2.0,4.0,7.0,1.0,2.0,23.0,11.0,1.0,5.0,4.0,5.0,1.0,2.0,1.0])), LabeledPoint(1.0, (128,[5,7,8,12,14,15,18,20,23,24,25,37,38,41,42,47,56,61,67,71,73,74,80,82,85,87,89,93,99,100,106,107,112,119],[3.0,2.0,84.0,8.0,17.0,1.0,1.0,13.0,3.0,39.0,1.0,1.0,18.0,17.0,6.0,1.0,1.0,1.0,5.0,52.0,43.0,4.0,10.0,2.0,2.0,168.0,61.0,9.0,44.0,8.0,1.0,40.0,43.0,5.0])), LabeledPoint(1.0, (128,[5,8,12,14,15,20,23,24,25,30,32,38,41,42,49,53,67,71,73,80,87,89,93,99,100,107,112,119,122,127],[1.0,61.0,5.0,14.0,2.0,14.0,4.0,23.0,2.0,1.0,1.0,16.0,12.0,5.0,3.0,1.0,11.0,38.0,40.0,10.0,133.0,47.0,7.0,34.0,8.0,44.0,39.0,2.0,2.0,1.0])), LabeledPoint(1.0, (128,[5,7,8,12,14,20,23,24,34,38,41,42,67,71,73,80,87,89,90,93,99,100,107,112,114,119,122,127],[2.0,1.0,26.0,4.0,2.0,4.0,2.0,21.0,1.0,6.0,7.0,2.0,1.0,16.0,14.0,3.0,49.0,28.0,1.0,4.0,7.0,4.0,12.0,12.0,2.0,2.0,1.0,1.0])), LabeledPoint(1.0, (128,[5,7,8,12,14,20,23,24,30,32,38,41,42,47,49,57,67,71,73,80,87,89,93,99,100,107,112,119,127],[5.0,3.0,90.0,11.0,22.0,20.0,8.0,50.0,2.0,1.0,39.0,30.0,6.0,1.0,5.0,1.0,23.0,63.0,72.0,4.0,240.0,96.0,16.0,62.0,12.0,77.0,47.0,8.0,2.0])), LabeledPoint(1.0, (128,[8,12,14,20,24,30,38,41,59,67,71,73,80,87,89,93,99,100,107,112,114,119],[11.0,1.0,4.0,3.0,5.0,1.0,2.0,2.0,1.0,1.0,3.0,12.0,4.0,23.0,7.0,1.0,7.0,1.0,5.0,3.0,1.0,1.0])), LabeledPoint(1.0, (128,[8,12,14,20,23,24,38,41,42,67,71,73,74,80,82,85,87,89,90,93,95,99,100,107,112],[43.0,3.0,6.0,8.0,1.0,21.0,11.0,5.0,1.0,3.0,23.0,21.0,2.0,2.0,1.0,1.0,86.0,22.0,1.0,6.0,1.0,21.0,2.0,30.0,15.0])), LabeledPoint(1.0, (128,[7,8,12,14,18,20,23,24,32,38,67,71,73,74,80,87,89,93,99,100,106,107,112,119],[2.0,12.0,1.0,1.0,1.0,2.0,2.0,13.0,1.0,3.0,9.0,5.0,4.0,2.0,1.0,29.0,8.0,3.0,3.0,2.0,1.0,6.0,8.0,2.0])), LabeledPoint(1.0, (128,[5,8,12,14,15,20,23,24,25,30,32,38,41,42,49,53,67,71,73,80,87,89,93,99,100,107,112,119,122,127],[2.0,60.0,5.0,13.0,2.0,14.0,4.0,23.0,2.0,1.0,1.0,16.0,12.0,6.0,3.0,1.0,10.0,38.0,39.0,10.0,133.0,47.0,7.0,34.0,8.0,44.0,37.0,2.0,2.0,1.0])), LabeledPoint(0.0, (128,[7,8,12,14,20,23,24,30,38,41,42,67,68,71,73,74,80,82,85,87,89,99,107,112,114,119,122],[1.0,11.0,2.0,2.0,2.0,2.0,1.0,3.0,5.0,6.0,3.0,5.0,1.0,6.0,8.0,1.0,1.0,1.0,1.0,29.0,8.0,4.0,9.0,6.0,1.0,1.0,1.0])), LabeledPoint(0.0, (128,[5,8,12,14,23,24,30,38,41,42,67,71,73,87,89,90,93,99,100,106,107,112],[1.0,10.0,2.0,4.0,2.0,5.0,1.0,4.0,3.0,4.0,4.0,6.0,6.0,26.0,13.0,1.0,2.0,2.0,2.0,1.0,15.0,2.0])), LabeledPoint(0.0, (128,[8,12,14,20,23,24,30,38,41,42,67,71,73,80,85,87,89,99,107,112,114,119],[18.0,2.0,2.0,1.0,2.0,5.0,1.0,4.0,2.0,3.0,3.0,5.0,4.0,1.0,1.0,29.0,5.0,8.0,8.0,10.0,1.0,1.0])), LabeledPoint(0.0, (128,[8,12,14,20,24,38,41,42,61,67,71,73,80,85,87,89,99,107,112,119,127],[13.0,1.0,2.0,1.0,5.0,5.0,2.0,5.0,1.0,3.0,9.0,5.0,1.0,2.0,33.0,12.0,4.0,10.0,2.0,1.0,1.0])), LabeledPoint(0.0, (128,[8,12,14,19,23,24,38,42,67,71,73,80,87,89,93,99,100,106,107,112,114],[7.0,1.0,5.0,1.0,1.0,9.0,1.0,4.0,3.0,7.0,8.0,1.0,24.0,6.0,2.0,5.0,1.0,2.0,9.0,2.0,1.0])), LabeledPoint(0.0, (128,[7,8,12,14,20,24,30,38,41,42,56,67,71,73,80,87,89,93,99,107,112,114],[2.0,3.0,1.0,3.0,1.0,2.0,1.0,1.0,5.0,1.0,1.0,1.0,9.0,2.0,1.0,16.0,5.0,2.0,2.0,4.0,1.0,1.0])), LabeledPoint(0.0, (128,[8,12,14,20,23,24,30,38,41,42,67,71,73,80,87,89,93,99,106,107,112,119],[15.0,4.0,2.0,3.0,4.0,8.0,1.0,6.0,2.0,1.0,2.0,16.0,8.0,2.0,27.0,13.0,1.0,11.0,1.0,12.0,6.0,1.0])), LabeledPoint(0.0, (128,[5,7,8,12,14,20,23,24,32,37,38,41,42,47,49,56,67,68,71,73,74,80,85,87,89,90,93,99,100,107,112,119],[4.0,2.0,32.0,5.0,4.0,10.0,6.0,13.0,3.0,1.0,10.0,3.0,4.0,1.0,1.0,3.0,4.0,1.0,17.0,20.0,2.0,5.0,1.0,68.0,47.0,2.0,6.0,24.0,2.0,21.0,13.0,4.0])), LabeledPoint(0.0, (128,[5,7,8,12,14,20,23,24,37,38,41,42,67,68,71,73,74,80,87,89,93,95,99,100,107,112,119],[3.0,1.0,25.0,5.0,7.0,5.0,3.0,20.0,1.0,5.0,5.0,3.0,4.0,1.0,18.0,12.0,1.0,2.0,54.0,18.0,12.0,1.0,12.0,2.0,12.0,11.0,1.0])), LabeledPoint(0.0, (128,[8,12,14,15,20,23,24,25,38,41,42,47,56,67,71,73,80,85,87,89,93,99,100,106,107,112,119],[19.0,5.0,8.0,1.0,8.0,3.0,23.0,1.0,6.0,8.0,5.0,1.0,1.0,10.0,31.0,12.0,2.0,1.0,89.0,31.0,4.0,12.0,1.0,2.0,21.0,7.0,2.0])), LabeledPoint(0.0, (128,[5,8,12,14,20,23,24,30,38,41,42,61,67,71,73,80,87,89,93,95,99,100,107,112,119],[1.0,27.0,3.0,6.0,4.0,2.0,18.0,1.0,10.0,5.0,1.0,1.0,6.0,19.0,15.0,7.0,45.0,20.0,4.0,1.0,14.0,2.0,15.0,9.0,2.0])), LabeledPoint(0.0, (128,[5,7,8,12,14,20,23,24,30,38,41,42,57,61,67,71,73,80,85,87,89,93,99,100,106,107,112,119],[3.0,2.0,23.0,8.0,4.0,9.0,4.0,12.0,4.0,5.0,11.0,2.0,1.0,1.0,3.0,16.0,16.0,1.0,1.0,40.0,15.0,1.0,14.0,1.0,1.0,11.0,4.0,3.0])), LabeledPoint(0.0, (128,[7,8,12,14,20,23,24,38,41,42,49,67,71,73,74,80,85,87,89,93,99,100,107,112,119],[1.0,12.0,2.0,6.0,3.0,1.0,8.0,3.0,3.0,2.0,1.0,1.0,13.0,12.0,1.0,2.0,1.0,30.0,12.0,4.0,8.0,2.0,4.0,9.0,1.0])), LabeledPoint(0.0, (128,[5,7,8,12,14,20,23,24,38,41,59,67,71,73,80,82,87,89,93,95,99,100,107,112,119,122],[3.0,1.0,19.0,4.0,3.0,3.0,1.0,8.0,3.0,5.0,1.0,2.0,11.0,8.0,2.0,2.0,30.0,12.0,1.0,1.0,13.0,1.0,10.0,5.0,1.0,2.0])), LabeledPoint(0.0, (128,[5,7,8,12,14,20,23,24,30,37,38,41,42,47,49,56,57,59,61,67,71,73,74,80,82,85,87,89,93,95,99,100,107,112,122,127],[1.0,2.0,31.0,8.0,12.0,11.0,3.0,15.0,1.0,1.0,9.0,6.0,1.0,2.0,2.0,1.0,1.0,1.0,1.0,4.0,27.0,26.0,4.0,5.0,1.0,5.0,74.0,29.0,8.0,1.0,13.0,3.0,28.0,20.0,2.0,3.0]))]\n",
      "test_30_percent= PythonRDD[666] at RDD at PythonRDD.scala:53\n",
      "test_30_percent.count()= 12\n",
      "test_30_percent.collect()= [LabeledPoint(1.0, (128,[5,8,12,14,20,24,38,41,42,57,67,71,73,74,80,82,87,89,90,93,99,107,112,114,119,127],[1.0,10.0,2.0,2.0,4.0,6.0,6.0,3.0,1.0,1.0,2.0,9.0,6.0,1.0,2.0,1.0,32.0,14.0,1.0,3.0,7.0,9.0,3.0,1.0,1.0,1.0])), LabeledPoint(1.0, (128,[8,12,14,20,24,30,38,41,42,59,71,73,80,87,89,93,99,107,114],[5.0,1.0,1.0,1.0,3.0,1.0,2.0,1.0,3.0,1.0,2.0,6.0,2.0,11.0,5.0,1.0,2.0,3.0,1.0])), LabeledPoint(1.0, (128,[8,12,14,20,24,32,38,41,42,71,73,80,87,89,93,99,100,107,112],[10.0,1.0,2.0,2.0,5.0,1.0,8.0,2.0,4.0,8.0,4.0,4.0,27.0,9.0,2.0,6.0,1.0,9.0,5.0])), LabeledPoint(1.0, (128,[5,7,8,12,14,20,23,24,38,41,42,61,71,73,80,82,87,89,90,93,95,99,100,107,112,119,122,127],[2.0,2.0,20.0,1.0,5.0,6.0,1.0,19.0,6.0,8.0,3.0,1.0,21.0,14.0,1.0,1.0,66.0,28.0,2.0,5.0,1.0,13.0,4.0,14.0,6.0,5.0,1.0,1.0])), LabeledPoint(1.0, (128,[5,7,8,12,14,18,20,23,24,30,32,37,38,41,42,56,61,67,68,71,73,74,80,82,85,87,89,90,93,95,98,99,100,106,107,112,119,122],[7.0,5.0,116.0,13.0,32.0,1.0,29.0,17.0,59.0,1.0,1.0,1.0,43.0,26.0,5.0,1.0,4.0,13.0,4.0,68.0,83.0,4.0,12.0,2.0,2.0,243.0,91.0,1.0,16.0,1.0,1.0,60.0,8.0,1.0,72.0,54.0,4.0,2.0])), LabeledPoint(1.0, (128,[5,7,8,12,14,15,20,23,24,25,30,32,38,41,42,47,49,53,59,61,67,71,73,85,87,89,90,93,98,99,100,107,112,119],[2.0,2.0,28.0,4.0,13.0,2.0,9.0,8.0,26.0,2.0,3.0,3.0,19.0,15.0,3.0,3.0,1.0,2.0,1.0,4.0,16.0,31.0,24.0,4.0,114.0,40.0,1.0,7.0,3.0,21.0,3.0,32.0,20.0,3.0])), LabeledPoint(1.0, (128,[8,12,14,18,20,23,24,34,38,41,42,67,71,73,74,80,87,89,93,99,100,107,112,114,119],[13.0,3.0,3.0,1.0,1.0,2.0,10.0,1.0,5.0,3.0,1.0,3.0,12.0,9.0,3.0,1.0,33.0,10.0,4.0,7.0,3.0,9.0,5.0,1.0,1.0])), LabeledPoint(0.0, (128,[5,8,12,14,20,23,24,38,41,42,61,67,71,73,80,87,89,99,100,107,112,119],[1.0,9.0,3.0,3.0,1.0,1.0,5.0,3.0,3.0,4.0,1.0,2.0,11.0,8.0,6.0,28.0,12.0,7.0,4.0,6.0,2.0,1.0])), LabeledPoint(0.0, (128,[7,8,12,14,15,20,23,24,25,30,34,38,41,42,56,61,67,71,73,80,82,87,89,90,93,95,99,100,107,112,119,122],[2.0,37.0,8.0,9.0,1.0,12.0,2.0,12.0,1.0,1.0,1.0,3.0,9.0,4.0,1.0,1.0,6.0,23.0,24.0,6.0,1.0,64.0,33.0,1.0,2.0,1.0,19.0,5.0,14.0,15.0,6.0,1.0])), LabeledPoint(0.0, (128,[7,8,12,14,20,23,24,30,38,41,42,47,49,56,57,67,71,73,80,87,89,90,93,99,100,106,107,112],[1.0,33.0,2.0,5.0,2.0,7.0,10.0,2.0,7.0,5.0,3.0,1.0,2.0,1.0,1.0,5.0,26.0,17.0,9.0,68.0,31.0,1.0,4.0,18.0,3.0,1.0,18.0,8.0])), LabeledPoint(0.0, (128,[8,12,14,15,20,23,24,25,30,38,41,42,49,61,67,71,73,80,85,87,89,93,95,99,100,107,112,119],[24.0,10.0,12.0,1.0,8.0,3.0,19.0,1.0,4.0,10.0,9.0,6.0,1.0,1.0,12.0,27.0,27.0,5.0,1.0,83.0,25.0,4.0,1.0,15.0,3.0,17.0,11.0,1.0])), LabeledPoint(0.0, (128,[5,7,8,12,14,18,20,24,37,38,41,42,67,71,73,80,82,87,89,90,93,99,100,107,112,119,127],[2.0,1.0,37.0,6.0,9.0,1.0,3.0,19.0,1.0,15.0,12.0,4.0,5.0,17.0,14.0,5.0,1.0,78.0,33.0,1.0,7.0,14.0,4.0,19.0,13.0,1.0,1.0]))]\n"
     ]
    }
   ],
   "source": [
    "print(\"training_70_percent=\", training_70_percent)\n",
    "print(\"training_70_percent.count()=\", training_70_percent.count())\n",
    "print(\"training_70_percent.collect()=\", training_70_percent.collect())\n",
    "#\n",
    "print(\"test_30_percent=\", test_30_percent)\n",
    "print(\"test_30_percent.count()=\", test_30_percent.count())\n",
    "print(\"test_30_percent.collect()=\", test_30_percent.collect())"
   ]
  },
  {
   "cell_type": "code",
   "execution_count": 61,
   "metadata": {},
   "outputs": [
    {
     "name": "stdout",
     "output_type": "stream",
     "text": [
      "prediction_label.count()= 12\n",
      "prediction_label.collect()= [(0, 1.0), (0, 1.0), (0, 1.0), (0, 1.0), (1, 1.0), (1, 1.0), (0, 1.0), (0, 0.0), (0, 0.0), (0, 0.0), (0, 0.0), (0, 0.0)]\n"
     ]
    }
   ],
   "source": [
    "prediction_label = test_30_percent.map(lambda x : (LR_model.predict(x.features), x.label))\n",
    "print(\"prediction_label.count()=\", prediction_label.count())\n",
    "print(\"prediction_label.collect()=\", prediction_label.collect())"
   ]
  },
  {
   "cell_type": "code",
   "execution_count": 62,
   "metadata": {},
   "outputs": [
    {
     "name": "stdout",
     "output_type": "stream",
     "text": [
      "accuracy= 0.5833333333333334\n"
     ]
    }
   ],
   "source": [
    "# Accuracy can be calculated by \n",
    "# taking the matching terms from both the training and test data. This \n",
    "# can be done as follows:\n",
    "accuracy = 1.0 * prediction_label.filter(lambda x : float(x[0]) == float(x[1])).count() / test_30_percent.count()\n",
    "print(\"accuracy=\", accuracy)"
   ]
  },
  {
   "cell_type": "code",
   "execution_count": 63,
   "metadata": {},
   "outputs": [],
   "source": [
    "# done!\n",
    "spark.stop()"
   ]
  },
  {
   "cell_type": "code",
   "execution_count": null,
   "metadata": {},
   "outputs": [],
   "source": []
  }
 ],
 "metadata": {
  "kernelspec": {
   "display_name": "Python 3",
   "language": "python",
   "name": "python3"
  },
  "language_info": {
   "codemirror_mode": {
    "name": "ipython",
    "version": 3
   },
   "file_extension": ".py",
   "mimetype": "text/x-python",
   "name": "python",
   "nbconvert_exporter": "python",
   "pygments_lexer": "ipython3",
   "version": "3.7.6"
  }
 },
 "nbformat": 4,
 "nbformat_minor": 4
}

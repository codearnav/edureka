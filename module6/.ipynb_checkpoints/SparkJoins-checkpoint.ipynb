{
 "cells": [
  {
   "cell_type": "code",
   "execution_count": 1,
   "metadata": {},
   "outputs": [],
   "source": [
    "from pyspark.sql import SparkSession\n",
    "\n",
    "# Spark session & context\n",
    "spark = SparkSession.builder.getOrCreate()\n",
    "sc = spark.sparkContext"
   ]
  },
  {
   "cell_type": "code",
   "execution_count": 10,
   "metadata": {},
   "outputs": [],
   "source": [
    "empDF = spark.read.option(\"header\",True).csv(\"/user/arnavmoutl12edu/module6/emp.csv\")\n",
    "deptDF = spark.read.option(\"header\",True).csv(\"/user/arnavmoutl12edu/module6/dept.csv\")"
   ]
  },
  {
   "cell_type": "code",
   "execution_count": 11,
   "metadata": {},
   "outputs": [
    {
     "name": "stdout",
     "output_type": "stream",
     "text": [
      "root\n",
      " |-- emp_id: string (nullable = true)\n",
      " |-- emp_name: string (nullable = true)\n",
      " |-- dept_id: string (nullable = true)\n",
      " |-- emp_gender: string (nullable = true)\n",
      " |-- emp_salary: string (nullable = true)\n",
      " |-- emp_age: string (nullable = true)\n",
      "\n"
     ]
    }
   ],
   "source": [
    "empDF.printSchema()"
   ]
  },
  {
   "cell_type": "code",
   "execution_count": 12,
   "metadata": {},
   "outputs": [
    {
     "name": "stdout",
     "output_type": "stream",
     "text": [
      "root\n",
      " |-- dept_id: string (nullable = true)\n",
      " |-- dept_name: string (nullable = true)\n",
      " |-- dept_region: string (nullable = true)\n",
      "\n"
     ]
    }
   ],
   "source": [
    "deptDF.printSchema()"
   ]
  },
  {
   "cell_type": "code",
   "execution_count": 13,
   "metadata": {},
   "outputs": [],
   "source": [
    "joinDF = empDF.join(deptDF, empDF.dept_id == deptDF.dept_id).select(empDF['*'], deptDF['dept_name'], deptDF['dept_region'])"
   ]
  },
  {
   "cell_type": "code",
   "execution_count": 14,
   "metadata": {},
   "outputs": [
    {
     "name": "stdout",
     "output_type": "stream",
     "text": [
      "root\n",
      " |-- emp_id: string (nullable = true)\n",
      " |-- emp_name: string (nullable = true)\n",
      " |-- dept_id: string (nullable = true)\n",
      " |-- emp_gender: string (nullable = true)\n",
      " |-- emp_salary: string (nullable = true)\n",
      " |-- emp_age: string (nullable = true)\n",
      " |-- dept_name: string (nullable = true)\n",
      " |-- dept_region: string (nullable = true)\n",
      "\n"
     ]
    }
   ],
   "source": [
    "joinDF.printSchema()"
   ]
  },
  {
   "cell_type": "code",
   "execution_count": 16,
   "metadata": {},
   "outputs": [],
   "source": [
    "joinDF.write.csv(\"/user/arnavmoutl12edu/module6/employee_details.csv\")"
   ]
  },
  {
   "cell_type": "code",
   "execution_count": 17,
   "metadata": {},
   "outputs": [],
   "source": [
    "joinDF = joinDF.withColumn(\"emp_age\", joinDF[\"emp_age\"].cast('int'))"
   ]
  },
  {
   "cell_type": "code",
   "execution_count": 18,
   "metadata": {},
   "outputs": [
    {
     "name": "stdout",
     "output_type": "stream",
     "text": [
      "+-----------+------------------+\n",
      "|dept_region|      avg(emp_age)|\n",
      "+-----------+------------------+\n",
      "|      India|27.333333333333332|\n",
      "|        USA|26.666666666666668|\n",
      "|         UK|27.666666666666668|\n",
      "|     Canada|27.333333333333332|\n",
      "|  Australia|              28.0|\n",
      "+-----------+------------------+\n",
      "\n"
     ]
    }
   ],
   "source": [
    "joinDF.groupby(\"dept_region\").avg(\"emp_age\").show()"
   ]
  },
  {
   "cell_type": "code",
   "execution_count": 19,
   "metadata": {},
   "outputs": [],
   "source": [
    "countDF = joinDF.groupby(\"dept_id\").count()\n",
    "countDF.write.csv(\"/user/arnavmoutl12edu/module6/empcount.csv\")"
   ]
  },
  {
   "cell_type": "code",
   "execution_count": 20,
   "metadata": {},
   "outputs": [],
   "source": [
    "genderDF = joinDF.groupby(\"emp_gender\").count()"
   ]
  },
  {
   "cell_type": "code",
   "execution_count": 21,
   "metadata": {},
   "outputs": [
    {
     "name": "stdout",
     "output_type": "stream",
     "text": [
      "+----------+-----+\n",
      "|emp_gender|count|\n",
      "+----------+-----+\n",
      "|         F|   15|\n",
      "|         M|   15|\n",
      "+----------+-----+\n",
      "\n"
     ]
    }
   ],
   "source": [
    "genderDF.show()"
   ]
  },
  {
   "cell_type": "code",
   "execution_count": 22,
   "metadata": {},
   "outputs": [
    {
     "name": "stdout",
     "output_type": "stream",
     "text": [
      "root\n",
      " |-- emp_gender: string (nullable = true)\n",
      " |-- count: long (nullable = false)\n",
      "\n"
     ]
    }
   ],
   "source": [
    "genderDF.printSchema()"
   ]
  },
  {
   "cell_type": "code",
   "execution_count": 23,
   "metadata": {},
   "outputs": [],
   "source": [
    "from pyspark.sql.window import Window\n",
    "from pyspark.sql.functions import *\n",
    "from pyspark.sql.functions import sum as _sum"
   ]
  },
  {
   "cell_type": "code",
   "execution_count": 24,
   "metadata": {},
   "outputs": [],
   "source": [
    "distDF = genderDF.withColumn('distribution', genderDF[\"count\"]/_sum('count').over(Window.partitionBy())*100)"
   ]
  },
  {
   "cell_type": "code",
   "execution_count": 25,
   "metadata": {},
   "outputs": [
    {
     "name": "stdout",
     "output_type": "stream",
     "text": [
      "+----------+-----+------------+\n",
      "|emp_gender|count|distribution|\n",
      "+----------+-----+------------+\n",
      "|         F|   15|        50.0|\n",
      "|         M|   15|        50.0|\n",
      "+----------+-----+------------+\n",
      "\n"
     ]
    }
   ],
   "source": [
    "distDF.show()"
   ]
  },
  {
   "cell_type": "code",
   "execution_count": 26,
   "metadata": {},
   "outputs": [],
   "source": [
    "sc.stop()"
   ]
  },
  {
   "cell_type": "code",
   "execution_count": null,
   "metadata": {},
   "outputs": [],
   "source": []
  }
 ],
 "metadata": {
  "kernelspec": {
   "display_name": "Python 3",
   "language": "python",
   "name": "python3"
  },
  "language_info": {
   "codemirror_mode": {
    "name": "ipython",
    "version": 3
   },
   "file_extension": ".py",
   "mimetype": "text/x-python",
   "name": "python",
   "nbconvert_exporter": "python",
   "pygments_lexer": "ipython3",
   "version": "3.7.6"
  }
 },
 "nbformat": 4,
 "nbformat_minor": 5
}

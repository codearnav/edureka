{
 "cells": [
  {
   "cell_type": "code",
   "execution_count": null,
   "id": "d6a98548-c6bc-49bd-bf74-cc10c919ff04",
   "metadata": {},
   "outputs": [],
   "source": [
    "import findspark\n",
    "findspark.init()"
   ]
  },
  {
   "cell_type": "code",
   "execution_count": null,
   "id": "cce3ecf4-1a3d-4417-91f9-0720045c991b",
   "metadata": {},
   "outputs": [],
   "source": [
    "import pyspark\n",
    "from pyspark.sql import SparkSession\n",
    "spark = SparkSession.builder.getOrCreate()\n",
    "sc = spark.sparkContext"
   ]
  },
  {
   "cell_type": "code",
   "execution_count": null,
   "id": "2fad7572-35d6-490a-9d07-35381875298c",
   "metadata": {},
   "outputs": [],
   "source": [
    "lst = range(1000)\n",
    "rdd = sc.parallelize(lst)"
   ]
  },
  {
   "cell_type": "code",
   "execution_count": null,
   "id": "42641d78-72b3-49ad-a203-b5cd118618b6",
   "metadata": {},
   "outputs": [],
   "source": [
    "total = rdd.reduce(lambda x,y: x+y)"
   ]
  },
  {
   "cell_type": "code",
   "execution_count": null,
   "id": "23813c33-bc43-4b35-8325-3665c56ff9e8",
   "metadata": {},
   "outputs": [],
   "source": [
    "total"
   ]
  },
  {
   "cell_type": "code",
   "execution_count": null,
   "id": "32e5d921-913f-4a56-b0aa-0a69136ba1ef",
   "metadata": {},
   "outputs": [],
   "source": [
    "rdd.sum()"
   ]
  },
  {
   "cell_type": "code",
   "execution_count": null,
   "id": "f737508b-994c-4c57-a111-cf32db0c66b6",
   "metadata": {},
   "outputs": [],
   "source": [
    "sc.stop()"
   ]
  }
 ],
 "metadata": {
  "kernelspec": {
   "display_name": "Python 3",
   "language": "python",
   "name": "python3"
  },
  "language_info": {
   "codemirror_mode": {
    "name": "ipython",
    "version": 3
   },
   "file_extension": ".py",
   "mimetype": "text/x-python",
   "name": "python",
   "nbconvert_exporter": "python",
   "pygments_lexer": "ipython3",
   "version": "3.8.10"
  }
 },
 "nbformat": 4,
 "nbformat_minor": 5
}
